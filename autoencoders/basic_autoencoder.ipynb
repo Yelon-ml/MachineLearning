{
 "cells": [
  {
   "cell_type": "markdown",
   "metadata": {},
   "source": [
    "The below is basic autoencoder written in tf.keras. \n",
    "\n",
    "The model has three dense layers, all with activation function ReLU (rectified linear unit), and He weight initialization, moreover the middle layer has L1 regularization. The autoencoder is trained to reconstruct images from mnist dataset. The data class is used to turn original sets into the form required by the model, there is also functionality to split the train set into train and validation ones. The model class contains the whole model as shown below. For simplicity, encoder and decoder parts are not explicitely distinguished (as in the convolutional autoencoder). The chosen optimizer is Adam (adaptive momentum estimation)."
   ]
  },
  {
   "cell_type": "code",
   "execution_count": 1,
   "metadata": {},
   "outputs": [
    {
     "name": "stderr",
     "output_type": "stream",
     "text": [
      "Using TensorFlow backend.\n"
     ]
    }
   ],
   "source": [
    "import tensorflow as tf\n",
    "from tensorflow import keras\n",
    "from keras.datasets import mnist\n",
    "import numpy as np\n",
    "import matplotlib.pyplot as plt\n",
    "import random"
   ]
  },
  {
   "cell_type": "code",
   "execution_count": 2,
   "metadata": {},
   "outputs": [],
   "source": [
    "class data:\n",
    "    def __init__(self, input, name):\n",
    "        self.name = name\n",
    "        self.normalized = input.astype(\"float32\") / 255.\n",
    "        self.final = self.normalized.reshape(input.shape[0], np.prod(input.shape[1:]))\n",
    "\n",
    "    def train_val_split(self, val_size):\n",
    "        if val_size > 1 or val_size <= 0:\n",
    "            raise SyntaxError(\"Validation size should be a float between 0 and 1\")\n",
    "        perm = list(np.random.permutation(self.final.shape[0]))\n",
    "        split_index = int(self.final.shape[0] * val_size)\n",
    "        train_idxs = perm[:split_index]\n",
    "        test_idxs = perm[split_index:]\n",
    "        self.train = self.final[train_idxs]\n",
    "        self.val = self.final[test_idxs]\n",
    "\n",
    "class Model:\n",
    "    def __init__(self, input):\n",
    "        self.input = tf.keras.Input(shape=[784], dtype=tf.float32, name='input')\n",
    "        self.layer1 = tf.keras.layers.Dense(units=128, activation=tf.nn.relu, kernel_initializer=tf.keras.initializers.he_normal(), dtype=tf.float32, name=\"layer1\")(self.input)\n",
    "        self.layer2 = tf.keras.layers.Dense(units=32, activation=tf.nn.relu, activity_regularizer=tf.keras.regularizers.l1(10e-5), kernel_initializer=tf.keras.initializers.he_normal(), dtype=tf.float32, name=\"layer2\")(self.layer1)\n",
    "        self.layer3 = tf.keras.layers.Dense(units=128, activation=tf.nn.relu, kernel_initializer=tf.keras.initializers.he_normal(), dtype=tf.float32, name=\"layer3\")(self.layer2)\n",
    "        self.outputs = tf.keras.layers.Dense(units=784, activation='sigmoid', name='output')(self.layer3)"
   ]
  },
  {
   "cell_type": "code",
   "execution_count": 3,
   "metadata": {},
   "outputs": [],
   "source": [
    "(x_train, _ ), (x_test, _ ) = mnist.load_data() ### download datasets (wihtout labels)"
   ]
  },
  {
   "cell_type": "code",
   "execution_count": 4,
   "metadata": {},
   "outputs": [
    {
     "data": {
      "text/plain": [
       "(60000, 784)"
      ]
     },
     "execution_count": 4,
     "metadata": {},
     "output_type": "execute_result"
    }
   ],
   "source": [
    "input = data(x_train, \"mnist\")\n",
    "input.final.shape"
   ]
  },
  {
   "cell_type": "code",
   "execution_count": 5,
   "metadata": {},
   "outputs": [
    {
     "name": "stdout",
     "output_type": "stream",
     "text": [
      "train size: (12000, 784) \n",
      "validation size: (48000, 784)\n"
     ]
    }
   ],
   "source": [
    "input.train_val_split(0.2)\n",
    "print(\"train size:\", input.train.shape, \"\\nvalidation size:\", input.val.shape)"
   ]
  },
  {
   "cell_type": "code",
   "execution_count": 13,
   "metadata": {},
   "outputs": [],
   "source": [
    "tf.keras.backend.clear_session()"
   ]
  },
  {
   "cell_type": "code",
   "execution_count": 14,
   "metadata": {},
   "outputs": [
    {
     "name": "stdout",
     "output_type": "stream",
     "text": [
      "Model: \"Autoencoder\"\n",
      "_________________________________________________________________\n",
      "Layer (type)                 Output Shape              Param #   \n",
      "=================================================================\n",
      "input (InputLayer)           [(None, 784)]             0         \n",
      "_________________________________________________________________\n",
      "layer1 (Dense)               (None, 128)               100480    \n",
      "_________________________________________________________________\n",
      "layer2 (Dense)               (None, 32)                4128      \n",
      "_________________________________________________________________\n",
      "layer3 (Dense)               (None, 128)               4224      \n",
      "_________________________________________________________________\n",
      "output (Dense)               (None, 784)               101136    \n",
      "=================================================================\n",
      "Total params: 209,968\n",
      "Trainable params: 209,968\n",
      "Non-trainable params: 0\n",
      "_________________________________________________________________\n"
     ]
    }
   ],
   "source": [
    "model = Model(input.train)\n",
    "autoencoder = tf.keras.Model(model.input, model.outputs, name=\"Autoencoder\")\n",
    "autoencoder.summary()"
   ]
  },
  {
   "cell_type": "code",
   "execution_count": 15,
   "metadata": {},
   "outputs": [
    {
     "name": "stdout",
     "output_type": "stream",
     "text": [
      "Train on 12000 samples, validate on 48000 samples\n",
      "Epoch 1/100\n",
      "12000/12000 [==============================] - 2s 180us/sample - loss: 0.3722 - acc: 0.7449 - val_loss: 0.2432 - val_acc: 0.7938\n",
      "Epoch 2/100\n",
      "12000/12000 [==============================] - 1s 91us/sample - loss: 0.2132 - acc: 0.7975 - val_loss: 0.1872 - val_acc: 0.8007\n",
      "Epoch 3/100\n",
      "12000/12000 [==============================] - 1s 89us/sample - loss: 0.1732 - acc: 0.8030 - val_loss: 0.1614 - val_acc: 0.8054\n",
      "Epoch 4/100\n",
      "12000/12000 [==============================] - 1s 92us/sample - loss: 0.1529 - acc: 0.8067 - val_loss: 0.1463 - val_acc: 0.8081\n",
      "Epoch 5/100\n",
      "12000/12000 [==============================] - 1s 88us/sample - loss: 0.1407 - acc: 0.8088 - val_loss: 0.1367 - val_acc: 0.8090\n",
      "Epoch 6/100\n",
      "12000/12000 [==============================] - 1s 87us/sample - loss: 0.1331 - acc: 0.8100 - val_loss: 0.1312 - val_acc: 0.8104\n",
      "Epoch 7/100\n",
      "12000/12000 [==============================] - 1s 91us/sample - loss: 0.1283 - acc: 0.8107 - val_loss: 0.1272 - val_acc: 0.8106\n",
      "Epoch 8/100\n",
      "12000/12000 [==============================] - 1s 91us/sample - loss: 0.1246 - acc: 0.8113 - val_loss: 0.1240 - val_acc: 0.8112\n",
      "Epoch 9/100\n",
      "12000/12000 [==============================] - 1s 90us/sample - loss: 0.1217 - acc: 0.8117 - val_loss: 0.1215 - val_acc: 0.8115\n",
      "Epoch 10/100\n",
      "12000/12000 [==============================] - 1s 92us/sample - loss: 0.1193 - acc: 0.8120 - val_loss: 0.1197 - val_acc: 0.8122\n",
      "Epoch 11/100\n",
      "12000/12000 [==============================] - 1s 88us/sample - loss: 0.1174 - acc: 0.8123 - val_loss: 0.1177 - val_acc: 0.8121\n",
      "Epoch 12/100\n",
      "12000/12000 [==============================] - 1s 87us/sample - loss: 0.1156 - acc: 0.8125 - val_loss: 0.1161 - val_acc: 0.8122\n",
      "Epoch 13/100\n",
      "12000/12000 [==============================] - 1s 90us/sample - loss: 0.1142 - acc: 0.8127 - val_loss: 0.1149 - val_acc: 0.8126\n",
      "Epoch 14/100\n",
      "12000/12000 [==============================] - 1s 89us/sample - loss: 0.1129 - acc: 0.8128 - val_loss: 0.1138 - val_acc: 0.8123\n",
      "Epoch 15/100\n",
      "12000/12000 [==============================] - 1s 87us/sample - loss: 0.1118 - acc: 0.8129 - val_loss: 0.1127 - val_acc: 0.8124\n"
     ]
    }
   ],
   "source": [
    "autoencoder.compile(optimizer='Adam', loss='binary_crossentropy', metrics=['acc'])\n",
    "es = tf.keras.callbacks.EarlyStopping(monitor='val_loss', patience = 5,  min_delta=0.01, restore_best_weights=True)\n",
    "history = autoencoder.fit(x=input.train, y=input.train, epochs=100, shuffle=True, batch_size=256, validation_data=(input.val, input.val), callbacks=[es])"
   ]
  },
  {
   "cell_type": "code",
   "execution_count": 16,
   "metadata": {},
   "outputs": [],
   "source": [
    "test = data(x_test, \"mnist_test\")\n",
    "pred_imgs = autoencoder.predict(test.final)"
   ]
  },
  {
   "cell_type": "code",
   "execution_count": 17,
   "metadata": {},
   "outputs": [],
   "source": [
    "def reals_and_predictions(n):\n",
    "    len = test.final.shape[0]\n",
    "    perm = np.random.permutation(len)\n",
    "    perm = perm[:n]\n",
    "\n",
    "    ax_s = []\n",
    "    for i in range(n):\n",
    "        ax_s.append(str(\"ax\") + str(i))\n",
    "\n",
    "    f, ax_s = plt.subplots(1, n, figsize=(20,2))\n",
    "    f.suptitle(\"Test Images\", fontsize=16)\n",
    "    for idx, ax in enumerate(ax_s):\n",
    "        ax.imshow(test.final[perm[idx]].reshape(28, 28), cmap='gray')\n",
    "        ax.axis('off')\n",
    "\n",
    "    g, ax_s = plt.subplots(1, n, figsize=(20,2))\n",
    "    g.suptitle(\"Reconstructed Images\", fontsize=16)\n",
    "    for idx, ax in enumerate(ax_s):\n",
    "        ax.imshow(pred_imgs[perm[idx]].reshape(28, 28), cmap='gray')\n",
    "        ax.axis('off')\n",
    "    plt.show()"
   ]
  },
  {
   "cell_type": "code",
   "execution_count": 21,
   "metadata": {},
   "outputs": [
    {
     "data": {
      "image/png": "[encoded data removed]",
      "text/plain": [
       "<Figure size 1440x144 with 10 Axes>"
      ]
     },
     "metadata": {
      "needs_background": "light"
     },
     "output_type": "display_data"
    },
    {
     "data": {
      "image/png": "[encoded data removed]",
      "text/plain": [
       "<Figure size 1440x144 with 10 Axes>"
      ]
     },
     "metadata": {
      "needs_background": "light"
     },
     "output_type": "display_data"
    }
   ],
   "source": [
    "reals_and_predictions(10)"
   ]
  },
  {
   "cell_type": "markdown",
   "metadata": {},
   "source": [
    "As we can see the above model is able to reconstruct most of digits, with the precision level on which we are able to recognize images as digits. Of course there are some numbers which cause some problems, but usually it depends on the original image, if the number is strongly deformated or not. We do not excpet very high accuracy by such simple autoencoders, so basically I would say it works properly."
   ]
  }
 ],
 "metadata": {
  "kernelspec": {
   "display_name": "Python 3",
   "language": "python",
   "name": "python3"
  },
  "language_info": {
   "codemirror_mode": {
    "name": "ipython",
    "version": 3
   },
   "file_extension": ".py",
   "mimetype": "text/x-python",
   "name": "python",
   "nbconvert_exporter": "python",
   "pygments_lexer": "ipython3",
   "version": "3.7.3"
  }
 },
 "nbformat": 4,
 "nbformat_minor": 2
}
